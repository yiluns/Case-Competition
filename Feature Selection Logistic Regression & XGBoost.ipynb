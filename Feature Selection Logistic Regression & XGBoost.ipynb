{
 "cells": [
  {
   "cell_type": "code",
   "execution_count": 22,
   "metadata": {},
   "outputs": [
    {
     "name": "stderr",
     "output_type": "stream",
     "text": [
      "/Users/kpainton/opt/anaconda3/lib/python3.7/site-packages/IPython/core/interactiveshell.py:3063: DtypeWarning: Columns (80,193) have mixed types.Specify dtype option on import or set low_memory=False.\n",
      "  interactivity=interactivity, compiler=compiler, result=result)\n"
     ]
    }
   ],
   "source": [
    "import pandas as pd\n",
    "import numpy as np\n",
    "from xgboost import XGBClassifier\n",
    "health = pd.read_csv('data/massivenew_cleaned_trainingdata.csv')\n",
    "original = pd.read_csv('data/2020_Competition_Training.csv')\n",
    "health = health.set_index('person_id_syn')\n",
    "original = original.set_index('person_id_syn')"
   ]
  },
  {
   "cell_type": "code",
   "execution_count": 28,
   "metadata": {},
   "outputs": [],
   "source": [
    "health['rx_overall_pmpm_ct'] = original['rx_overall_pmpm_ct']\n",
    "health['rx_mail_pmpm_ct'] =original['rx_mail_pmpm_ct']\n",
    "health['submcc_men_depr_pmpm_ct']=original['submcc_men_depr_pmpm_ct']\n",
    "health['rx_gpi2_17_pmpm_ct']=original['rx_gpi2_17_pmpm_ct']\n",
    "health['submcc_ben_othr_pmpm_ct']=original['submcc_ben_othr_pmpm_ct']\n",
    "health['rx_gpi2_39_pmpm_ct']=original['rx_gpi2_39_pmpm_ct']\n",
    "health['submcc_sor_eye_pmpm_ct']=original['submcc_sor_eye_pmpm_ct']\n",
    "health['rx_branded_pmpm_ct']=original['rx_branded_pmpm_ct']\n",
    "health['submcc_men_abus_pmpm_ct']=original['submcc_men_abus_pmpm_ct']\n",
    "health['rx_gpi2_43_pmpm_ct']=original['rx_gpi2_43_pmpm_ct']\n",
    "health['rx_gpi2_49_pmpm_ct']=original['rx_gpi2_49_pmpm_ct']\n",
    "health['submcc_vco_vac_pmpm_ct']=original['submcc_vco_vac_pmpm_ct']\n",
    "health['rx_gpi2_75_pmpm_ct']=original['rx_gpi2_75_pmpm_ct']\n",
    "health['submcc_rsk_smok_pmpm_ct']=original['submcc_rsk_smok_pmpm_ct']\n",
    "health['mabh_seg'] = original['mabh_seg']\n",
    "health = pd.get_dummies(health)"
   ]
  },
  {
   "cell_type": "code",
   "execution_count": 29,
   "metadata": {},
   "outputs": [],
   "source": [
    "group1 = list(health.columns[800:])\n",
    "group3 = ['Credit_Stress_clusters','cms_risk_ma_nbr_rx_combined','med_ambulance_visit_ct_pmpm',\n",
    "'est_age','cms_low_income_ind','cons_n2pmv','count_vco','cms_disabled_ind','submcc_ner_othr_ind',\n",
    "'credit_hh_dpd_average', 'cms_risk_adjustment_factor_a_amt_rank','betos_o1a_ind','StressIndex',\n",
    "'credit_num_totalallcredit_collections','submcc_ben_othr_ind','betos_m5d_pmpm_ct_rank','cons_n2mob',\n",
    "'PCA18_submcc','betos_y2_ind','betos_m5b_pmpm_ct_rank', 'reverse_raf', 'hedis_dia_hba1c_test', 'count_bld_rank',\n",
    "'cons_homstat_Renter', 'anomaly_score', 'mabh_seg_H2', 'betos_m5c_pmpm_ct + betos_o1g_pmpm_ct', \n",
    "'total_physician_office_visit_ct_pmpm', 'rx_gpi2_90_pmpm_ct_rank', 'PCA4_creditbal', 'count_mus',\n",
    "'rx_gpi2_17_pmpm_ct_rank', 'betos_o1a_pmpm_ct * cons_n2pmv', 'total_ambulance_visit_ct_pmpm + total_er_visit_ct_pmpm',\n",
    "'cms_partd_ra_factor_amt * cms_tot_partd_payment_amt', 'total_ambulance_visit_ct_pmpm',\n",
    "'med_physician_office_visit_ct_pmpm', 'cons_retail_buyer', 'cons_hhcomp_Min Two People, No Children',\n",
    "'count_ner_rank', 'total_emer_visits', 'credit_hh_nonmtgcredit_60dpd_rank', 'count_can', 'PCA3_rx', \n",
    "'cons_hhcomp_One Person, Children', 'med_outpatient_visit_ct_pmpm', 'cms_ma_risk_score_nbr + cms_tot_partd_payment_amt',\n",
    "'fci_score', 'cci_score', 'hcc_weighted_sum','rx_overall_pmpm_ct','rx_mail_pmpm_ct','submcc_men_depr_pmpm_ct',\n",
    "'rx_gpi2_17_pmpm_ct','submcc_ben_othr_pmpm_ct','rx_gpi2_39_pmpm_ct','submcc_sor_eye_pmpm_ct',\n",
    "'rx_branded_pmpm_ct','submcc_men_abus_pmpm_ct','rx_gpi2_43_pmpm_ct','rx_gpi2_49_pmpm_ct',\n",
    "'submcc_vco_vac_pmpm_ct','rx_gpi2_75_pmpm_ct','submcc_rsk_smok_pmpm_ct', 'credit_hh_totalallcredit_severederog_rank',\n",
    "'ccsp_239_ind']\n",
    "grouped = group1 + group3\n",
    "grouped = list(set(group1 + group3))"
   ]
  },
  {
   "cell_type": "code",
   "execution_count": 30,
   "metadata": {},
   "outputs": [],
   "source": [
    "Y = health['transportation_issues']\n",
    "X = health[grouped]"
   ]
  },
  {
   "cell_type": "code",
   "execution_count": 31,
   "metadata": {},
   "outputs": [],
   "source": [
    "from sklearn.model_selection import train_test_split\n",
    "\n",
    "X_train82, X_holdout_test, y_train82, y_holdout_test = train_test_split(X, Y, test_size=0.25, random_state=42)\n",
    "X_train, X_test, y_train, y_test = train_test_split(X_train82, y_train82, test_size=0.2)"
   ]
  },
  {
   "cell_type": "code",
   "execution_count": 4,
   "metadata": {},
   "outputs": [],
   "source": [
    "def ForwardSelection(train_features, train_labels, test_features, test_labels):\n",
    "    '''\n",
    "    Completes a forward selection iterative model, starting with no features and adding a new feature\n",
    "    based on the best ROC AUC score. This program, for each iteration, will print the best feature that was \n",
    "    added to the model and it's associated ROC AUC score.\n",
    "    \n",
    "    Takes 4 arguments: \n",
    "    \n",
    "    train_features: training dataset with no labels\n",
    "    train_labels: training dataset with only target labels\n",
    "    test_features: test dataset with no labels\n",
    "    test_labels: test dataset with only target variables\n",
    "    '''\n",
    "    \n",
    "    from sklearn.linear_model import LogisticRegression\n",
    "    from sklearn.metrics import roc_auc_score\n",
    "    \n",
    "    best_roc = 0\n",
    "    best_roc_list = [0]\n",
    "    checks_before_break = 0\n",
    "    features = list(train_features.columns)\n",
    "    best_features = []\n",
    "    model = XGBClassifier(n_estimators=100,\n",
    "                      max_depth = 2,\n",
    "                      scale_pos_weight = 5, \n",
    "                      subsample = 0.6,\n",
    "                      colsample_bytree = 0.8,\n",
    "                      min_child_weight = 5,\n",
    "                      eta = 0.2,\n",
    "                      alpha = 0.01,\n",
    "                      gamma = 2, \n",
    "                      reg_lambda = 4.5)\n",
    "    \n",
    "    while (len(features) >= 2): \n",
    "        for feature in features: \n",
    "            if best_features == []:\n",
    "                model.fit(np.array(train_features[feature]).reshape(-1,1), train_labels)\n",
    "                p_pred = model.predict_proba(np.array(test_features[feature]).reshape(-1,1))\n",
    "                p_pred = p_pred[:,1]\n",
    "                roc_value = roc_auc_score(test_labels, p_pred)\n",
    "            else:\n",
    "                features_to_test = best_features + [feature]\n",
    "                model.fit(train_features[features_to_test], train_labels)\n",
    "                p_pred = model.predict_proba(test_features[features_to_test])\n",
    "                p_pred = p_pred[:,1]\n",
    "                roc_value = roc_auc_score(test_labels, p_pred)\n",
    "\n",
    "            if roc_value > best_roc:\n",
    "                best_roc = roc_value\n",
    "                current_best = feature \n",
    "\n",
    "        best_features.append(current_best)\n",
    "        best_roc_list.append(best_roc)\n",
    "\n",
    "        features.remove(current_best)\n",
    "        print(f'Added Feature: \\'{current_best}\\', ROC: {best_roc}')\n",
    "    return best_features, best_roc_list "
   ]
  },
  {
   "cell_type": "code",
   "execution_count": 5,
   "metadata": {
    "scrolled": true
   },
   "outputs": [
    {
     "name": "stdout",
     "output_type": "stream",
     "text": [
      "Added Feature: 'Credit_Stress_clusters', ROC: 0.6600241299664548\n",
      "Added Feature: 'cms_risk_ma_nbr_rx_combined', ROC: 0.6913004549428685\n",
      "Added Feature: 'med_ambulance_visit_ct_pmpm', ROC: 0.7073787643885249\n",
      "Added Feature: 'est_age', ROC: 0.7137695933170645\n",
      "Added Feature: 'cms_low_income_ind', ROC: 0.7212424147872241\n",
      "Added Feature: 'cons_n2pmv', ROC: 0.7231081917195493\n",
      "Added Feature: 'count_vco', ROC: 0.7260103472392736\n",
      "Added Feature: 'cms_disabled_ind', ROC: 0.7291339982111943\n",
      "Added Feature: 'submcc_ner_othr_ind', ROC: 0.7309633209145188\n",
      "Added Feature: 'credit_hh_dpd_average', ROC: 0.7317960802876509\n",
      "Added Feature: 'cms_risk_adjustment_factor_a_amt_rank', ROC: 0.7323732168452666\n",
      "Added Feature: 'betos_o1a_ind', ROC: 0.7339629093178338\n",
      "Added Feature: 'StressIndex', ROC: 0.7341824103137324\n",
      "Added Feature: 'credit_num_totalallcredit_collections', ROC: 0.736051696011767\n",
      "Added Feature: 'submcc_ben_othr_ind', ROC: 0.7366703837422559\n",
      "Added Feature: 'betos_m5d_pmpm_ct_rank', ROC: 0.7367094603119448\n",
      "Added Feature: 'cons_n2mob', ROC: 0.7378258387575158\n",
      "Added Feature: 'PCA18_submcc', ROC: 0.7382966043125759\n",
      "Added Feature: 'betos_y2_ind', ROC: 0.7395486057864054\n",
      "Added Feature: 'betos_m5b_pmpm_ct_rank', ROC: 0.7399783003154786\n"
     ]
    },
    {
     "ename": "ValueError",
     "evalue": "list.remove(x): x not in list",
     "output_type": "error",
     "traceback": [
      "\u001b[0;31m---------------------------------------------------------------------------\u001b[0m",
      "\u001b[0;31mValueError\u001b[0m                                Traceback (most recent call last)",
      "\u001b[0;32m<ipython-input-5-056973489616>\u001b[0m in \u001b[0;36m<module>\u001b[0;34m\u001b[0m\n\u001b[0;32m----> 1\u001b[0;31m \u001b[0mbest_features\u001b[0m\u001b[0;34m,\u001b[0m \u001b[0mbest_roc\u001b[0m \u001b[0;34m=\u001b[0m \u001b[0mForwardSelection\u001b[0m\u001b[0;34m(\u001b[0m\u001b[0mX_train\u001b[0m\u001b[0;34m,\u001b[0m \u001b[0my_train\u001b[0m\u001b[0;34m,\u001b[0m \u001b[0mX_test\u001b[0m\u001b[0;34m,\u001b[0m \u001b[0my_test\u001b[0m\u001b[0;34m)\u001b[0m\u001b[0;34m\u001b[0m\u001b[0;34m\u001b[0m\u001b[0m\n\u001b[0m",
      "\u001b[0;32m<ipython-input-4-8ff46026caf0>\u001b[0m in \u001b[0;36mForwardSelection\u001b[0;34m(train_features, train_labels, test_features, test_labels)\u001b[0m\n\u001b[1;32m     53\u001b[0m         \u001b[0mbest_roc_list\u001b[0m\u001b[0;34m.\u001b[0m\u001b[0mappend\u001b[0m\u001b[0;34m(\u001b[0m\u001b[0mbest_roc\u001b[0m\u001b[0;34m)\u001b[0m\u001b[0;34m\u001b[0m\u001b[0;34m\u001b[0m\u001b[0m\n\u001b[1;32m     54\u001b[0m \u001b[0;34m\u001b[0m\u001b[0m\n\u001b[0;32m---> 55\u001b[0;31m         \u001b[0mfeatures\u001b[0m\u001b[0;34m.\u001b[0m\u001b[0mremove\u001b[0m\u001b[0;34m(\u001b[0m\u001b[0mcurrent_best\u001b[0m\u001b[0;34m)\u001b[0m\u001b[0;34m\u001b[0m\u001b[0;34m\u001b[0m\u001b[0m\n\u001b[0m\u001b[1;32m     56\u001b[0m         \u001b[0mprint\u001b[0m\u001b[0;34m(\u001b[0m\u001b[0;34mf'Added Feature: \\'{current_best}\\', ROC: {best_roc}'\u001b[0m\u001b[0;34m)\u001b[0m\u001b[0;34m\u001b[0m\u001b[0;34m\u001b[0m\u001b[0m\n\u001b[1;32m     57\u001b[0m     \u001b[0;32mreturn\u001b[0m \u001b[0mbest_features\u001b[0m\u001b[0;34m,\u001b[0m \u001b[0mbest_roc_list\u001b[0m\u001b[0;34m\u001b[0m\u001b[0;34m\u001b[0m\u001b[0m\n",
      "\u001b[0;31mValueError\u001b[0m: list.remove(x): x not in list"
     ]
    }
   ],
   "source": [
    "best_features, best_roc = ForwardSelection(X_train, y_train, X_test, y_test)"
   ]
  },
  {
   "cell_type": "code",
   "execution_count": 34,
   "metadata": {},
   "outputs": [
    {
     "name": "stdout",
     "output_type": "stream",
     "text": [
      "cons_n2pmv * submcc_ner_migr_pmpm_ct 0.7400670403830658\n",
      "credit_num_nonagn1stmorg_bankruptc + credit_num_totalallcredit_collections 0.7401657317299944\n",
      "cons_n2pmv * credit_num_consumerfinance_new 0.7409309528605964\n",
      "credit_hh_1stmtg_severederog + credit_hh_studentloan 0.7410345836174301\n",
      "credit_bal_agencyfirstmtg_new + credit_num_autobank_new 0.7411237835492469\n",
      "credit_hh_autofinance * credit_num_totalallcredit_collections 0.7412000054236658\n",
      "credit_hh_bankcard_severederog + credit_num_autofinance 0.7412173417839212\n",
      "credit_hh_bankcard_severederog + credit_num_autobank 0.7420208191284944\n",
      "Added Feature: 'credit_hh_bankcard_severederog + credit_num_autobank', ROC: 0.7420208191284944, 6452\n",
      "credit_hh_agencyfirstmtg * credit_num_mtg_collections 0.7422032867414616\n",
      "fci_score * weighted_three_scores 0.7422200419946693\n",
      "Credit_All_clusters * MobilityIndex 0.7426730149383252\n",
      "credit_minmob_1stmtgcredit * credit_num_1stmtg_severederog 0.7430828891092791\n",
      "cms_tot_ma_payment_amt * cons_n2pmv 0.7431893285501766\n",
      "Added Feature: 'cms_tot_ma_payment_amt * cons_n2pmv', ROC: 0.7431893285501766, 6450\n",
      "cons_n2pmv * credit_num_autobank_new 0.7433830308993987\n",
      "credit_bal_heloc_severederog * credit_hh_totalallcredit_bankruptcy 0.7435683071964296\n",
      "credit_bal_agency1stmorg_collectio * credit_hh_mtg_severederog 0.7438767781875658\n",
      "credit_bal_consumerfinance_new * credit_hh_autobank_new 0.7438919838219797\n",
      "Added Feature: 'credit_bal_consumerfinance_new * credit_hh_autobank_new', ROC: 0.7438919838219797, 6449\n",
      "credit_hh_mtg_severederog * credit_num_1stmtg_collections 0.7439293683753797\n",
      "cons_n2pmv + credit_num_nonagn1stmorg_30to59dpd 0.7441608426827\n",
      "est_age + reverse_raf 0.7441648135808591\n",
      "fci_score + weighted_full_health 0.7448444182731049\n",
      "Added Feature: 'fci_score + weighted_full_health', ROC: 0.7448444182731049, 6448\n"
     ]
    },
    {
     "ename": "KeyboardInterrupt",
     "evalue": "",
     "output_type": "error",
     "traceback": [
      "\u001b[0;31m---------------------------------------------------------------------------\u001b[0m",
      "\u001b[0;31mKeyboardInterrupt\u001b[0m                         Traceback (most recent call last)",
      "\u001b[0;32m<ipython-input-34-0a262b439ef6>\u001b[0m in \u001b[0;36m<module>\u001b[0;34m\u001b[0m\n\u001b[1;32m     39\u001b[0m     \u001b[0;32mfor\u001b[0m \u001b[0mfeature\u001b[0m \u001b[0;32min\u001b[0m \u001b[0mfeatures\u001b[0m\u001b[0;34m:\u001b[0m\u001b[0;34m\u001b[0m\u001b[0;34m\u001b[0m\u001b[0m\n\u001b[1;32m     40\u001b[0m         \u001b[0mfeatures_to_test\u001b[0m \u001b[0;34m=\u001b[0m \u001b[0mbest_features\u001b[0m \u001b[0;34m+\u001b[0m \u001b[0;34m[\u001b[0m\u001b[0mfeature\u001b[0m\u001b[0;34m]\u001b[0m\u001b[0;34m\u001b[0m\u001b[0;34m\u001b[0m\u001b[0m\n\u001b[0;32m---> 41\u001b[0;31m         \u001b[0mmodel\u001b[0m\u001b[0;34m.\u001b[0m\u001b[0mfit\u001b[0m\u001b[0;34m(\u001b[0m\u001b[0mtrain_features\u001b[0m\u001b[0;34m[\u001b[0m\u001b[0mfeatures_to_test\u001b[0m\u001b[0;34m]\u001b[0m\u001b[0;34m,\u001b[0m \u001b[0mtrain_labels\u001b[0m\u001b[0;34m)\u001b[0m\u001b[0;34m\u001b[0m\u001b[0;34m\u001b[0m\u001b[0m\n\u001b[0m\u001b[1;32m     42\u001b[0m         \u001b[0mp_pred\u001b[0m \u001b[0;34m=\u001b[0m \u001b[0mmodel\u001b[0m\u001b[0;34m.\u001b[0m\u001b[0mpredict_proba\u001b[0m\u001b[0;34m(\u001b[0m\u001b[0mtest_features\u001b[0m\u001b[0;34m[\u001b[0m\u001b[0mfeatures_to_test\u001b[0m\u001b[0;34m]\u001b[0m\u001b[0;34m)\u001b[0m\u001b[0;34m\u001b[0m\u001b[0;34m\u001b[0m\u001b[0m\n\u001b[1;32m     43\u001b[0m         \u001b[0mp_pred\u001b[0m \u001b[0;34m=\u001b[0m \u001b[0mp_pred\u001b[0m\u001b[0;34m[\u001b[0m\u001b[0;34m:\u001b[0m\u001b[0;34m,\u001b[0m\u001b[0;36m1\u001b[0m\u001b[0;34m]\u001b[0m\u001b[0;34m\u001b[0m\u001b[0;34m\u001b[0m\u001b[0m\n",
      "\u001b[0;32m~/opt/anaconda3/lib/python3.7/site-packages/xgboost/sklearn.py\u001b[0m in \u001b[0;36mfit\u001b[0;34m(self, X, y, sample_weight, base_margin, eval_set, eval_metric, early_stopping_rounds, verbose, xgb_model, sample_weight_eval_set, callbacks)\u001b[0m\n\u001b[1;32m    832\u001b[0m                               \u001b[0mevals_result\u001b[0m\u001b[0;34m=\u001b[0m\u001b[0mevals_result\u001b[0m\u001b[0;34m,\u001b[0m \u001b[0mobj\u001b[0m\u001b[0;34m=\u001b[0m\u001b[0mobj\u001b[0m\u001b[0;34m,\u001b[0m \u001b[0mfeval\u001b[0m\u001b[0;34m=\u001b[0m\u001b[0mfeval\u001b[0m\u001b[0;34m,\u001b[0m\u001b[0;34m\u001b[0m\u001b[0;34m\u001b[0m\u001b[0m\n\u001b[1;32m    833\u001b[0m                               \u001b[0mverbose_eval\u001b[0m\u001b[0;34m=\u001b[0m\u001b[0mverbose\u001b[0m\u001b[0;34m,\u001b[0m \u001b[0mxgb_model\u001b[0m\u001b[0;34m=\u001b[0m\u001b[0mxgb_model\u001b[0m\u001b[0;34m,\u001b[0m\u001b[0;34m\u001b[0m\u001b[0;34m\u001b[0m\u001b[0m\n\u001b[0;32m--> 834\u001b[0;31m                               callbacks=callbacks)\n\u001b[0m\u001b[1;32m    835\u001b[0m \u001b[0;34m\u001b[0m\u001b[0m\n\u001b[1;32m    836\u001b[0m         \u001b[0mself\u001b[0m\u001b[0;34m.\u001b[0m\u001b[0mobjective\u001b[0m \u001b[0;34m=\u001b[0m \u001b[0mxgb_options\u001b[0m\u001b[0;34m[\u001b[0m\u001b[0;34m\"objective\"\u001b[0m\u001b[0;34m]\u001b[0m\u001b[0;34m\u001b[0m\u001b[0;34m\u001b[0m\u001b[0m\n",
      "\u001b[0;32m~/opt/anaconda3/lib/python3.7/site-packages/xgboost/training.py\u001b[0m in \u001b[0;36mtrain\u001b[0;34m(params, dtrain, num_boost_round, evals, obj, feval, maximize, early_stopping_rounds, evals_result, verbose_eval, xgb_model, callbacks)\u001b[0m\n\u001b[1;32m    210\u001b[0m                            \u001b[0mevals\u001b[0m\u001b[0;34m=\u001b[0m\u001b[0mevals\u001b[0m\u001b[0;34m,\u001b[0m\u001b[0;34m\u001b[0m\u001b[0;34m\u001b[0m\u001b[0m\n\u001b[1;32m    211\u001b[0m                            \u001b[0mobj\u001b[0m\u001b[0;34m=\u001b[0m\u001b[0mobj\u001b[0m\u001b[0;34m,\u001b[0m \u001b[0mfeval\u001b[0m\u001b[0;34m=\u001b[0m\u001b[0mfeval\u001b[0m\u001b[0;34m,\u001b[0m\u001b[0;34m\u001b[0m\u001b[0;34m\u001b[0m\u001b[0m\n\u001b[0;32m--> 212\u001b[0;31m                            xgb_model=xgb_model, callbacks=callbacks)\n\u001b[0m\u001b[1;32m    213\u001b[0m \u001b[0;34m\u001b[0m\u001b[0m\n\u001b[1;32m    214\u001b[0m \u001b[0;34m\u001b[0m\u001b[0m\n",
      "\u001b[0;32m~/opt/anaconda3/lib/python3.7/site-packages/xgboost/training.py\u001b[0m in \u001b[0;36m_train_internal\u001b[0;34m(params, dtrain, num_boost_round, evals, obj, feval, xgb_model, callbacks)\u001b[0m\n\u001b[1;32m     73\u001b[0m         \u001b[0;31m# Skip the first update if it is a recovery step.\u001b[0m\u001b[0;34m\u001b[0m\u001b[0;34m\u001b[0m\u001b[0;34m\u001b[0m\u001b[0m\n\u001b[1;32m     74\u001b[0m         \u001b[0;32mif\u001b[0m \u001b[0mversion\u001b[0m \u001b[0;34m%\u001b[0m \u001b[0;36m2\u001b[0m \u001b[0;34m==\u001b[0m \u001b[0;36m0\u001b[0m\u001b[0;34m:\u001b[0m\u001b[0;34m\u001b[0m\u001b[0;34m\u001b[0m\u001b[0m\n\u001b[0;32m---> 75\u001b[0;31m             \u001b[0mbst\u001b[0m\u001b[0;34m.\u001b[0m\u001b[0mupdate\u001b[0m\u001b[0;34m(\u001b[0m\u001b[0mdtrain\u001b[0m\u001b[0;34m,\u001b[0m \u001b[0mi\u001b[0m\u001b[0;34m,\u001b[0m \u001b[0mobj\u001b[0m\u001b[0;34m)\u001b[0m\u001b[0;34m\u001b[0m\u001b[0;34m\u001b[0m\u001b[0m\n\u001b[0m\u001b[1;32m     76\u001b[0m             \u001b[0mbst\u001b[0m\u001b[0;34m.\u001b[0m\u001b[0msave_rabit_checkpoint\u001b[0m\u001b[0;34m(\u001b[0m\u001b[0;34m)\u001b[0m\u001b[0;34m\u001b[0m\u001b[0;34m\u001b[0m\u001b[0m\n\u001b[1;32m     77\u001b[0m             \u001b[0mversion\u001b[0m \u001b[0;34m+=\u001b[0m \u001b[0;36m1\u001b[0m\u001b[0;34m\u001b[0m\u001b[0;34m\u001b[0m\u001b[0m\n",
      "\u001b[0;32m~/opt/anaconda3/lib/python3.7/site-packages/xgboost/core.py\u001b[0m in \u001b[0;36mupdate\u001b[0;34m(self, dtrain, iteration, fobj)\u001b[0m\n\u001b[1;32m   1159\u001b[0m             _check_call(_LIB.XGBoosterUpdateOneIter(self.handle,\n\u001b[1;32m   1160\u001b[0m                                                     \u001b[0mctypes\u001b[0m\u001b[0;34m.\u001b[0m\u001b[0mc_int\u001b[0m\u001b[0;34m(\u001b[0m\u001b[0miteration\u001b[0m\u001b[0;34m)\u001b[0m\u001b[0;34m,\u001b[0m\u001b[0;34m\u001b[0m\u001b[0;34m\u001b[0m\u001b[0m\n\u001b[0;32m-> 1161\u001b[0;31m                                                     dtrain.handle))\n\u001b[0m\u001b[1;32m   1162\u001b[0m         \u001b[0;32melse\u001b[0m\u001b[0;34m:\u001b[0m\u001b[0;34m\u001b[0m\u001b[0;34m\u001b[0m\u001b[0m\n\u001b[1;32m   1163\u001b[0m             \u001b[0mpred\u001b[0m \u001b[0;34m=\u001b[0m \u001b[0mself\u001b[0m\u001b[0;34m.\u001b[0m\u001b[0mpredict\u001b[0m\u001b[0;34m(\u001b[0m\u001b[0mdtrain\u001b[0m\u001b[0;34m,\u001b[0m \u001b[0moutput_margin\u001b[0m\u001b[0;34m=\u001b[0m\u001b[0;32mTrue\u001b[0m\u001b[0;34m,\u001b[0m \u001b[0mtraining\u001b[0m\u001b[0;34m=\u001b[0m\u001b[0;32mTrue\u001b[0m\u001b[0;34m)\u001b[0m\u001b[0;34m\u001b[0m\u001b[0;34m\u001b[0m\u001b[0m\n",
      "\u001b[0;31mKeyboardInterrupt\u001b[0m: "
     ]
    }
   ],
   "source": [
    "from sklearn.metrics import roc_auc_score\n",
    "train_features, train_labels, test_features, test_labels = X_train, y_train, X_test, y_test\n",
    "best_roc = 0\n",
    "best_roc_list = [0]\n",
    "checks_before_break = 0\n",
    "features = list(X_train.columns)\n",
    "best_features = ['Credit_Stress_clusters','cms_risk_ma_nbr_rx_combined','med_ambulance_visit_ct_pmpm',\n",
    "'est_age','cms_low_income_ind','cons_n2pmv','count_vco','cms_disabled_ind','submcc_ner_othr_ind',\n",
    "'credit_hh_dpd_average', 'cms_risk_adjustment_factor_a_amt_rank','betos_o1a_ind','StressIndex',\n",
    "'credit_num_totalallcredit_collections','submcc_ben_othr_ind','betos_m5d_pmpm_ct_rank','cons_n2mob',\n",
    "'PCA18_submcc','betos_y2_ind','betos_m5b_pmpm_ct_rank', 'reverse_raf', 'hedis_dia_hba1c_test', 'count_bld_rank',\n",
    "'cons_homstat_Renter', 'anomaly_score', 'mabh_seg_H2', 'betos_m5c_pmpm_ct + betos_o1g_pmpm_ct', \n",
    "'total_physician_office_visit_ct_pmpm', 'rx_gpi2_90_pmpm_ct_rank', 'PCA4_creditbal', 'count_mus',\n",
    "'rx_gpi2_17_pmpm_ct_rank', 'betos_o1a_pmpm_ct * cons_n2pmv', 'total_ambulance_visit_ct_pmpm + total_er_visit_ct_pmpm',\n",
    "'cms_partd_ra_factor_amt * cms_tot_partd_payment_amt', 'total_ambulance_visit_ct_pmpm',\n",
    "'med_physician_office_visit_ct_pmpm', 'cons_retail_buyer', 'cons_hhcomp_Min Two People, No Children',\n",
    "'count_ner_rank', 'total_emer_visits', 'credit_hh_nonmtgcredit_60dpd_rank', 'count_can', 'PCA3_rx', \n",
    "'cons_hhcomp_One Person, Children', 'med_outpatient_visit_ct_pmpm', 'cms_ma_risk_score_nbr + cms_tot_partd_payment_amt',\n",
    "'fci_score', 'cci_score', 'hcc_weighted_sum','rx_overall_pmpm_ct','rx_mail_pmpm_ct','submcc_men_depr_pmpm_ct',\n",
    "'rx_gpi2_17_pmpm_ct','submcc_ben_othr_pmpm_ct','rx_gpi2_39_pmpm_ct','submcc_sor_eye_pmpm_ct',\n",
    "'rx_branded_pmpm_ct','submcc_men_abus_pmpm_ct','rx_gpi2_43_pmpm_ct','rx_gpi2_49_pmpm_ct',\n",
    "'submcc_vco_vac_pmpm_ct','rx_gpi2_75_pmpm_ct','submcc_rsk_smok_pmpm_ct', 'credit_hh_totalallcredit_severederog_rank',\n",
    "'ccsp_239_ind', 'anomaly_decision']\n",
    "i = 0\n",
    "baseline = 0.735\n",
    "features = [x for x in features if x not in best_features]\n",
    "model = XGBClassifier(n_estimators=100,\n",
    "                      max_depth = 2,\n",
    "                      scale_pos_weight = 5.5, \n",
    "                      subsample = 0.6,\n",
    "                      colsample_bytree = 0.8,\n",
    "                      min_child_weight = 5,\n",
    "                      eta = 0.2,\n",
    "                      alpha = 0.01,\n",
    "                      gamma = 2, \n",
    "                      reg_lambda = 4.5)\n",
    "    \n",
    "while (i != 10): \n",
    "    for feature in features: \n",
    "        features_to_test = best_features + [feature]\n",
    "        model.fit(train_features[features_to_test], train_labels)\n",
    "        p_pred = model.predict_proba(test_features[features_to_test])\n",
    "        p_pred = p_pred[:,1]\n",
    "        roc_value = roc_auc_score(test_labels, p_pred)\n",
    "\n",
    "        if roc_value > best_roc:\n",
    "            i = 0\n",
    "            best_roc = roc_value\n",
    "            current_best = feature\n",
    "            print(current_best, best_roc)\n",
    "        if roc_value <= baseline:\n",
    "            features.remove(feature)\n",
    "\n",
    "    if current_best == best_features[-1]:\n",
    "        i += 1\n",
    "        continue\n",
    "    best_features.append(current_best)\n",
    "    best_roc_list.append(best_roc)\n",
    "\n",
    "    features.remove(current_best)\n",
    "    print(f'Added Feature: \\'{current_best}\\', ROC: {best_roc}, {len(features)}')"
   ]
  }
 ],
 "metadata": {
  "kernelspec": {
   "display_name": "Python 3",
   "language": "python",
   "name": "python3"
  },
  "language_info": {
   "codemirror_mode": {
    "name": "ipython",
    "version": 3
   },
   "file_extension": ".py",
   "mimetype": "text/x-python",
   "name": "python",
   "nbconvert_exporter": "python",
   "pygments_lexer": "ipython3",
   "version": "3.8.3"
  },
  "varInspector": {
   "cols": {
    "lenName": 16,
    "lenType": 16,
    "lenVar": 40
   },
   "kernels_config": {
    "python": {
     "delete_cmd_postfix": "",
     "delete_cmd_prefix": "del ",
     "library": "var_list.py",
     "varRefreshCmd": "print(var_dic_list())"
    },
    "r": {
     "delete_cmd_postfix": ") ",
     "delete_cmd_prefix": "rm(",
     "library": "var_list.r",
     "varRefreshCmd": "cat(var_dic_list()) "
    }
   },
   "types_to_exclude": [
    "module",
    "function",
    "builtin_function_or_method",
    "instance",
    "_Feature"
   ],
   "window_display": false
  }
 },
 "nbformat": 4,
 "nbformat_minor": 4
}
