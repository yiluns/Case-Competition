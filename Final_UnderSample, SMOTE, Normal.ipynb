{
 "cells": [
  {
   "cell_type": "code",
   "execution_count": null,
   "metadata": {
    "id": "2cavePwfyFqj"
   },
   "outputs": [],
   "source": [
    "import pandas as pd\n",
    "import numpy as np\n",
    "health = pd.read_csv('data/cleaned_trainingdata.csv')\n",
    "health = health.set_index('person_id_syn')"
   ]
  },
  {
   "cell_type": "code",
   "execution_count": null,
   "metadata": {
    "id": "XYi-beOxyFqz"
   },
   "outputs": [],
   "source": [
    "from numpy import mean\n",
    "from sklearn.datasets import make_classification\n",
    "from sklearn.model_selection import cross_val_score\n",
    "from sklearn.model_selection import RepeatedStratifiedKFold\n",
    "from sklearn.tree import DecisionTreeClassifier\n",
    "from imblearn.pipeline import Pipeline\n",
    "from imblearn.over_sampling import SMOTE\n",
    "from imblearn.under_sampling import RandomUnderSampler"
   ]
  },
  {
   "cell_type": "code",
   "execution_count": null,
   "metadata": {
    "id": "4uII3B8PyFq8",
    "outputId": "46eca4ad-7f7c-42b2-92b5-6e5b260bd6f4"
   },
   "outputs": [
    {
     "data": {
      "text/html": [
       "<div>\n",
       "<style scoped>\n",
       "    .dataframe tbody tr th:only-of-type {\n",
       "        vertical-align: middle;\n",
       "    }\n",
       "\n",
       "    .dataframe tbody tr th {\n",
       "        vertical-align: top;\n",
       "    }\n",
       "\n",
       "    .dataframe thead th {\n",
       "        text-align: right;\n",
       "    }\n",
       "</style>\n",
       "<table border=\"1\" class=\"dataframe\">\n",
       "  <thead>\n",
       "    <tr style=\"text-align: right;\">\n",
       "      <th></th>\n",
       "      <th>betos_d1c_ind</th>\n",
       "      <th>betos_d1d_ind</th>\n",
       "      <th>betos_m1b_ind</th>\n",
       "      <th>betos_m2c_ind</th>\n",
       "      <th>betos_m5b_ind</th>\n",
       "      <th>betos_m5c_ind</th>\n",
       "      <th>betos_m5d_ind</th>\n",
       "      <th>betos_o1a_ind</th>\n",
       "      <th>betos_o1b_ind</th>\n",
       "      <th>betos_o1e_ind</th>\n",
       "      <th>...</th>\n",
       "      <th>count_men</th>\n",
       "      <th>count_mus</th>\n",
       "      <th>count_ner</th>\n",
       "      <th>count_rar</th>\n",
       "      <th>count_res</th>\n",
       "      <th>count_rsk</th>\n",
       "      <th>count_skn</th>\n",
       "      <th>count_sns</th>\n",
       "      <th>count_sor</th>\n",
       "      <th>count_vco</th>\n",
       "    </tr>\n",
       "    <tr>\n",
       "      <th>person_id_syn</th>\n",
       "      <th></th>\n",
       "      <th></th>\n",
       "      <th></th>\n",
       "      <th></th>\n",
       "      <th></th>\n",
       "      <th></th>\n",
       "      <th></th>\n",
       "      <th></th>\n",
       "      <th></th>\n",
       "      <th></th>\n",
       "      <th></th>\n",
       "      <th></th>\n",
       "      <th></th>\n",
       "      <th></th>\n",
       "      <th></th>\n",
       "      <th></th>\n",
       "      <th></th>\n",
       "      <th></th>\n",
       "      <th></th>\n",
       "      <th></th>\n",
       "      <th></th>\n",
       "    </tr>\n",
       "  </thead>\n",
       "  <tbody>\n",
       "    <tr>\n",
       "      <th>0002MOb79ST17bLYAe46eIc2</th>\n",
       "      <td>0</td>\n",
       "      <td>0</td>\n",
       "      <td>1</td>\n",
       "      <td>0</td>\n",
       "      <td>0</td>\n",
       "      <td>0</td>\n",
       "      <td>0</td>\n",
       "      <td>0</td>\n",
       "      <td>0</td>\n",
       "      <td>0</td>\n",
       "      <td>...</td>\n",
       "      <td>0.000000</td>\n",
       "      <td>0.945441</td>\n",
       "      <td>0.000000</td>\n",
       "      <td>0.0</td>\n",
       "      <td>0.177619</td>\n",
       "      <td>0.316758</td>\n",
       "      <td>0.000000</td>\n",
       "      <td>0.479521</td>\n",
       "      <td>0.087879</td>\n",
       "      <td>0.288975</td>\n",
       "    </tr>\n",
       "    <tr>\n",
       "      <th>0004cMOS6bTLf34Y7AIca8f3</th>\n",
       "      <td>0</td>\n",
       "      <td>0</td>\n",
       "      <td>1</td>\n",
       "      <td>0</td>\n",
       "      <td>0</td>\n",
       "      <td>1</td>\n",
       "      <td>1</td>\n",
       "      <td>0</td>\n",
       "      <td>0</td>\n",
       "      <td>0</td>\n",
       "      <td>...</td>\n",
       "      <td>0.356489</td>\n",
       "      <td>0.389335</td>\n",
       "      <td>0.084335</td>\n",
       "      <td>0.0</td>\n",
       "      <td>0.000000</td>\n",
       "      <td>0.673225</td>\n",
       "      <td>0.089573</td>\n",
       "      <td>0.349359</td>\n",
       "      <td>0.173064</td>\n",
       "      <td>0.268385</td>\n",
       "    </tr>\n",
       "    <tr>\n",
       "      <th>000536M9O3ST98LaYaeA29Ia</th>\n",
       "      <td>0</td>\n",
       "      <td>0</td>\n",
       "      <td>1</td>\n",
       "      <td>0</td>\n",
       "      <td>0</td>\n",
       "      <td>1</td>\n",
       "      <td>1</td>\n",
       "      <td>1</td>\n",
       "      <td>0</td>\n",
       "      <td>1</td>\n",
       "      <td>...</td>\n",
       "      <td>0.000000</td>\n",
       "      <td>0.833333</td>\n",
       "      <td>0.000000</td>\n",
       "      <td>0.0</td>\n",
       "      <td>0.000000</td>\n",
       "      <td>0.416667</td>\n",
       "      <td>0.083333</td>\n",
       "      <td>2.333334</td>\n",
       "      <td>0.250000</td>\n",
       "      <td>0.416667</td>\n",
       "    </tr>\n",
       "    <tr>\n",
       "      <th>0009bMO9SfTLYe77A51I4ac3</th>\n",
       "      <td>0</td>\n",
       "      <td>0</td>\n",
       "      <td>1</td>\n",
       "      <td>0</td>\n",
       "      <td>0</td>\n",
       "      <td>0</td>\n",
       "      <td>1</td>\n",
       "      <td>0</td>\n",
       "      <td>0</td>\n",
       "      <td>0</td>\n",
       "      <td>...</td>\n",
       "      <td>0.000000</td>\n",
       "      <td>0.000000</td>\n",
       "      <td>0.000000</td>\n",
       "      <td>0.0</td>\n",
       "      <td>0.166667</td>\n",
       "      <td>0.500000</td>\n",
       "      <td>0.000000</td>\n",
       "      <td>0.000000</td>\n",
       "      <td>0.083333</td>\n",
       "      <td>0.166667</td>\n",
       "    </tr>\n",
       "    <tr>\n",
       "      <th>000M7OeS66bTL8bY89Aa16Ie</th>\n",
       "      <td>0</td>\n",
       "      <td>0</td>\n",
       "      <td>1</td>\n",
       "      <td>0</td>\n",
       "      <td>0</td>\n",
       "      <td>0</td>\n",
       "      <td>0</td>\n",
       "      <td>0</td>\n",
       "      <td>0</td>\n",
       "      <td>1</td>\n",
       "      <td>...</td>\n",
       "      <td>0.000000</td>\n",
       "      <td>0.000000</td>\n",
       "      <td>0.250000</td>\n",
       "      <td>0.0</td>\n",
       "      <td>0.666667</td>\n",
       "      <td>0.583333</td>\n",
       "      <td>0.000000</td>\n",
       "      <td>0.000000</td>\n",
       "      <td>0.000000</td>\n",
       "      <td>0.333333</td>\n",
       "    </tr>\n",
       "  </tbody>\n",
       "</table>\n",
       "<p>5 rows × 421 columns</p>\n",
       "</div>"
      ],
      "text/plain": [
       "                          betos_d1c_ind  betos_d1d_ind  betos_m1b_ind  \\\n",
       "person_id_syn                                                           \n",
       "0002MOb79ST17bLYAe46eIc2              0              0              1   \n",
       "0004cMOS6bTLf34Y7AIca8f3              0              0              1   \n",
       "000536M9O3ST98LaYaeA29Ia              0              0              1   \n",
       "0009bMO9SfTLYe77A51I4ac3              0              0              1   \n",
       "000M7OeS66bTL8bY89Aa16Ie              0              0              1   \n",
       "\n",
       "                          betos_m2c_ind  betos_m5b_ind  betos_m5c_ind  \\\n",
       "person_id_syn                                                           \n",
       "0002MOb79ST17bLYAe46eIc2              0              0              0   \n",
       "0004cMOS6bTLf34Y7AIca8f3              0              0              1   \n",
       "000536M9O3ST98LaYaeA29Ia              0              0              1   \n",
       "0009bMO9SfTLYe77A51I4ac3              0              0              0   \n",
       "000M7OeS66bTL8bY89Aa16Ie              0              0              0   \n",
       "\n",
       "                          betos_m5d_ind  betos_o1a_ind  betos_o1b_ind  \\\n",
       "person_id_syn                                                           \n",
       "0002MOb79ST17bLYAe46eIc2              0              0              0   \n",
       "0004cMOS6bTLf34Y7AIca8f3              1              0              0   \n",
       "000536M9O3ST98LaYaeA29Ia              1              1              0   \n",
       "0009bMO9SfTLYe77A51I4ac3              1              0              0   \n",
       "000M7OeS66bTL8bY89Aa16Ie              0              0              0   \n",
       "\n",
       "                          betos_o1e_ind  ...  count_men  count_mus  count_ner  \\\n",
       "person_id_syn                            ...                                    \n",
       "0002MOb79ST17bLYAe46eIc2              0  ...   0.000000   0.945441   0.000000   \n",
       "0004cMOS6bTLf34Y7AIca8f3              0  ...   0.356489   0.389335   0.084335   \n",
       "000536M9O3ST98LaYaeA29Ia              1  ...   0.000000   0.833333   0.000000   \n",
       "0009bMO9SfTLYe77A51I4ac3              0  ...   0.000000   0.000000   0.000000   \n",
       "000M7OeS66bTL8bY89Aa16Ie              1  ...   0.000000   0.000000   0.250000   \n",
       "\n",
       "                          count_rar  count_res  count_rsk  count_skn  \\\n",
       "person_id_syn                                                          \n",
       "0002MOb79ST17bLYAe46eIc2        0.0   0.177619   0.316758   0.000000   \n",
       "0004cMOS6bTLf34Y7AIca8f3        0.0   0.000000   0.673225   0.089573   \n",
       "000536M9O3ST98LaYaeA29Ia        0.0   0.000000   0.416667   0.083333   \n",
       "0009bMO9SfTLYe77A51I4ac3        0.0   0.166667   0.500000   0.000000   \n",
       "000M7OeS66bTL8bY89Aa16Ie        0.0   0.666667   0.583333   0.000000   \n",
       "\n",
       "                          count_sns  count_sor  count_vco  \n",
       "person_id_syn                                              \n",
       "0002MOb79ST17bLYAe46eIc2   0.479521   0.087879   0.288975  \n",
       "0004cMOS6bTLf34Y7AIca8f3   0.349359   0.173064   0.268385  \n",
       "000536M9O3ST98LaYaeA29Ia   2.333334   0.250000   0.416667  \n",
       "0009bMO9SfTLYe77A51I4ac3   0.000000   0.083333   0.166667  \n",
       "000M7OeS66bTL8bY89Aa16Ie   0.000000   0.000000   0.333333  \n",
       "\n",
       "[5 rows x 421 columns]"
      ]
     },
     "execution_count": 3,
     "metadata": {
      "tags": []
     },
     "output_type": "execute_result"
    }
   ],
   "source": [
    "health.head()"
   ]
  },
  {
   "cell_type": "code",
   "execution_count": null,
   "metadata": {
    "id": "Vm1cipcKyFrE"
   },
   "outputs": [],
   "source": [
    "Y = health['transportation_issues']\n",
    "X = health.drop('transportation_issues', axis = 1)"
   ]
  },
  {
   "cell_type": "code",
   "execution_count": null,
   "metadata": {
    "id": "JhXQhMLByFrJ"
   },
   "outputs": [],
   "source": [
    "from sklearn.model_selection import train_test_split\n",
    "\n",
    "X_train, X_holdout_test, y_train, y_holdout_test = train_test_split(X, Y, test_size=0.25, random_state=42)"
   ]
  },
  {
   "cell_type": "code",
   "execution_count": null,
   "metadata": {
    "id": "Hq1QhshVyFrO"
   },
   "outputs": [],
   "source": [
    "from imblearn.under_sampling import RandomUnderSampler\n",
    "rus = RandomUnderSampler(random_state=42, sampling_strategy = 1)\n",
    "X_train_under50, y_train_under50 = rus.fit_sample(X_train, y_train)\n",
    "\n",
    "rus = RandomUnderSampler(random_state=42, sampling_strategy = (2/3))\n",
    "X_train_under40, y_train_under40 = rus.fit_sample(X_train, y_train)\n",
    "\n",
    "rus = RandomUnderSampler(random_state=42, sampling_strategy = (3/7))\n",
    "X_train_under30, y_train_under30 = rus.fit_sample(X_train, y_train)\n",
    "\n",
    "rus = RandomUnderSampler(random_state=42, sampling_strategy = 0.25)\n",
    "X_train_under20, y_train_under20 = rus.fit_sample(X_train, y_train)"
   ]
  },
  {
   "cell_type": "code",
   "execution_count": null,
   "metadata": {
    "id": "AtRanewYyFrU",
    "outputId": "7e18bd74-0c2c-4a0b-ec24-28722270ead8"
   },
   "outputs": [
    {
     "name": "stdout",
     "output_type": "stream",
     "text": [
      "Counter({0: 7698, 1: 7698})\n"
     ]
    }
   ],
   "source": [
    "from collections import Counter\n",
    "counter = Counter(y_train_under50)\n",
    "print(counter)"
   ]
  },
  {
   "cell_type": "code",
   "execution_count": null,
   "metadata": {
    "id": "y2KQJY4uyFrY"
   },
   "outputs": [],
   "source": [
    "import imblearn\n",
    "oversample = SMOTE(sampling_strategy = 1)\n",
    "X_train_over50, y_train_over50 = oversample.fit_resample(X_train, y_train)\n",
    "\n",
    "oversample = SMOTE(sampling_strategy = (2/3))\n",
    "X_train_over40, y_train_over40 = oversample.fit_resample(X_train, y_train)\n",
    "\n",
    "oversample = SMOTE(sampling_strategy = (3/7))\n",
    "X_train_over30, y_train_over30 = oversample.fit_resample(X_train, y_train)\n",
    "\n",
    "oversample = SMOTE(sampling_strategy = 0.25)\n",
    "X_train_over20, y_train_over20 = oversample.fit_resample(X_train, y_train)"
   ]
  },
  {
   "cell_type": "code",
   "execution_count": null,
   "metadata": {
    "id": "0gvKL-nCyFrb",
    "outputId": "44df961c-472b-43d6-d347-f4bf8f6f17b4"
   },
   "outputs": [
    {
     "name": "stdout",
     "output_type": "stream",
     "text": [
      "Counter({0: 44481, 1: 44481})\n"
     ]
    }
   ],
   "source": [
    "from collections import Counter\n",
    "counter = Counter(y_train_over50)\n",
    "print(counter)"
   ]
  },
  {
   "cell_type": "code",
   "execution_count": null,
   "metadata": {
    "id": "STPYoDn3yFre"
   },
   "outputs": [],
   "source": [
    "over = SMOTE(sampling_strategy=0.3)\n",
    "under = RandomUnderSampler(sampling_strategy=1)\n",
    "steps = [('o', over), ('u', under)]\n",
    "pipeline = Pipeline(steps=steps)\n",
    "X_train_OverUnder, y_train_OverUnder = pipeline.fit_resample(X_train, y_train)"
   ]
  },
  {
   "cell_type": "code",
   "execution_count": null,
   "metadata": {
    "id": "ngyAynMTyFrg",
    "outputId": "d215a766-48af-45c5-8d19-05f8a94db788"
   },
   "outputs": [
    {
     "name": "stdout",
     "output_type": "stream",
     "text": [
      "Counter({0: 13344, 1: 13344})\n"
     ]
    }
   ],
   "source": [
    "counter = Counter(y_train_OverUnder)\n",
    "print(counter)"
   ]
  }
 ],
 "metadata": {
  "colab": {
   "name": "Final_UnderSample, SMOTE, Normal.ipynb",
   "provenance": []
  },
  "kernelspec": {
   "display_name": "Python 3",
   "language": "python",
   "name": "python3"
  },
  "language_info": {
   "codemirror_mode": {
    "name": "ipython",
    "version": 3
   },
   "file_extension": ".py",
   "mimetype": "text/x-python",
   "name": "python",
   "nbconvert_exporter": "python",
   "pygments_lexer": "ipython3",
   "version": "3.8.3"
  },
  "varInspector": {
   "cols": {
    "lenName": 16,
    "lenType": 16,
    "lenVar": 40
   },
   "kernels_config": {
    "python": {
     "delete_cmd_postfix": "",
     "delete_cmd_prefix": "del ",
     "library": "var_list.py",
     "varRefreshCmd": "print(var_dic_list())"
    },
    "r": {
     "delete_cmd_postfix": ") ",
     "delete_cmd_prefix": "rm(",
     "library": "var_list.r",
     "varRefreshCmd": "cat(var_dic_list()) "
    }
   },
   "types_to_exclude": [
    "module",
    "function",
    "builtin_function_or_method",
    "instance",
    "_Feature"
   ],
   "window_display": false
  }
 },
 "nbformat": 4,
 "nbformat_minor": 1
}
