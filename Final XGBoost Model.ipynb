{
 "cells": [
  {
   "cell_type": "code",
   "execution_count": 2,
   "metadata": {},
   "outputs": [],
   "source": [
    "import pandas as pd\n",
    "import numpy as np\n",
    "from numpy import mean\n",
    "from sklearn.datasets import make_classification\n",
    "from sklearn.model_selection import cross_val_score\n",
    "from sklearn.model_selection import RepeatedStratifiedKFold\n",
    "from sklearn.tree import DecisionTreeClassifier\n",
    "from imblearn.pipeline import Pipeline\n",
    "from imblearn.over_sampling import SMOTE\n",
    "from imblearn.over_sampling import RandomOverSampler\n",
    "from imblearn.under_sampling import RandomUnderSampler\n",
    "from sklearn.metrics import roc_auc_score\n",
    "from sklearn.metrics import confusion_matrix\n",
    "from sklearn.model_selection import GridSearchCV\n",
    "from xgboost import XGBClassifier\n",
    "from sklearn.metrics import classification_report\n",
    "health = pd.read_csv('data/FINAL_cleaned_trainingdata.csv')\n",
    "health = health.set_index('person_id_syn')"
   ]
  },
  {
   "cell_type": "code",
   "execution_count": 3,
   "metadata": {},
   "outputs": [
    {
     "data": {
      "text/plain": [
       "(69572, 74)"
      ]
     },
     "execution_count": 3,
     "metadata": {},
     "output_type": "execute_result"
    }
   ],
   "source": [
    "health.shape"
   ]
  },
  {
   "cell_type": "code",
   "execution_count": 4,
   "metadata": {},
   "outputs": [],
   "source": [
    "Y = health['transportation_issues']\n",
    "X = health.drop('transportation_issues', axis = 1)"
   ]
  },
  {
   "cell_type": "code",
   "execution_count": 5,
   "metadata": {},
   "outputs": [],
   "source": [
    "from sklearn.model_selection import train_test_split\n",
    "\n",
    "X_train, X_holdout_test, y_train, y_holdout_test = train_test_split(X, Y, test_size=0.25)"
   ]
  },
  {
   "cell_type": "code",
   "execution_count": 6,
   "metadata": {},
   "outputs": [
    {
     "name": "stdout",
     "output_type": "stream",
     "text": [
      "0.7427050832724379\n",
      "[[10827  4000]\n",
      " [  940  1626]]\n",
      "              precision    recall  f1-score   support\n",
      "\n",
      "           0       0.92      0.73      0.81     14827\n",
      "           1       0.29      0.63      0.40      2566\n",
      "\n",
      "    accuracy                           0.72     17393\n",
      "   macro avg       0.60      0.68      0.61     17393\n",
      "weighted avg       0.83      0.72      0.75     17393\n",
      "\n"
     ]
    }
   ],
   "source": [
    "xgbs = XGBClassifier(n_estimators=100,\n",
    "                      max_depth = 2,\n",
    "                      scale_pos_weight = 5.5, \n",
    "                      subsample = 0.6,\n",
    "                      colsample_bytree = 0.8,\n",
    "                      min_child_weight = 5,\n",
    "                      eta = 0.2,\n",
    "                      alpha = 0.01,\n",
    "                      gamma = 2, \n",
    "                      reg_lambda = 4.5,\n",
    "                     objective= 'binary:logistic', n_jobs =  -1,\n",
    "                     eval_metric = 'auc')\n",
    "model = xgbs.fit(X_train, y_train)\n",
    "rf_predictions = model.predict(X_holdout_test)\n",
    "rf_probs = model.predict_proba(X_holdout_test)[:, 1]\n",
    "roc_value = roc_auc_score(y_holdout_test, rf_probs)\n",
    "print(roc_value)\n",
    "print(confusion_matrix(y_holdout_test, rf_predictions))\n",
    "print(classification_report(y_holdout_test, rf_predictions))"
   ]
  },
  {
   "cell_type": "code",
   "execution_count": 249,
   "metadata": {},
   "outputs": [
    {
     "name": "stdout",
     "output_type": "stream",
     "text": [
      "No Skill: ROC AUC=0.500\n",
      "Logistic: ROC AUC=0.751\n"
     ]
    },
    {
     "data": {
      "image/png": "[encoded data removed]",
      "text/plain": [
       "<Figure size 432x288 with 1 Axes>"
      ]
     },
     "metadata": {
      "needs_background": "light"
     },
     "output_type": "display_data"
    }
   ],
   "source": [
    "from sklearn.metrics import roc_curve\n",
    "f = plt.figure()\n",
    "ns_probs = [0 for _ in range(len(y_holdout_test))]\n",
    "# calculate scores\n",
    "ns_auc = roc_auc_score(y_holdout_test, ns_probs)\n",
    "lr_auc = roc_auc_score(y_holdout_test, rf_probs)\n",
    "# summarize scores\n",
    "print('No Skill: ROC AUC=%.3f' % (ns_auc))\n",
    "print('Logistic: ROC AUC=%.3f' % (lr_auc))\n",
    "# calculate roc curves\n",
    "ns_fpr, ns_tpr, _ = roc_curve(y_holdout_test, ns_probs)\n",
    "lr_fpr, lr_tpr, _ = roc_curve(y_holdout_test, rf_probs)\n",
    "# plot the roc curve for the model\n",
    "pyplot.plot(ns_fpr, ns_tpr, linestyle='--', label='No Skill')\n",
    "pyplot.plot(lr_fpr, lr_tpr, marker='.', label='XGBoost')\n",
    "# axis labels\n",
    "pyplot.xlabel('False Positive Rate')\n",
    "pyplot.ylabel('True Positive Rate')\n",
    "# show the legend\n",
    "pyplot.legend()\n",
    "# show the plot\n",
    "pyplot.show()\n",
    "f.savefig('images/ROC_Curve.png', bbox_inches='tight', dpi=100)"
   ]
  }
 ],
 "metadata": {
  "kernelspec": {
   "display_name": "Python 3",
   "language": "python",
   "name": "python3"
  },
  "language_info": {
   "codemirror_mode": {
    "name": "ipython",
    "version": 3
   },
   "file_extension": ".py",
   "mimetype": "text/x-python",
   "name": "python",
   "nbconvert_exporter": "python",
   "pygments_lexer": "ipython3",
   "version": "3.8.3"
  },
  "varInspector": {
   "cols": {
    "lenName": 16,
    "lenType": 16,
    "lenVar": 40
   },
   "kernels_config": {
    "python": {
     "delete_cmd_postfix": "",
     "delete_cmd_prefix": "del ",
     "library": "var_list.py",
     "varRefreshCmd": "print(var_dic_list())"
    },
    "r": {
     "delete_cmd_postfix": ") ",
     "delete_cmd_prefix": "rm(",
     "library": "var_list.r",
     "varRefreshCmd": "cat(var_dic_list()) "
    }
   },
   "types_to_exclude": [
    "module",
    "function",
    "builtin_function_or_method",
    "instance",
    "_Feature"
   ],
   "window_display": false
  }
 },
 "nbformat": 4,
 "nbformat_minor": 4
}
